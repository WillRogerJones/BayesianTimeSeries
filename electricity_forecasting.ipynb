{
 "cells": [
  {
   "cell_type": "markdown",
   "metadata": {},
   "source": [
    "Electricity Forecasting - ARIMA"
   ]
  },
  {
   "cell_type": "code",
   "execution_count": null,
   "metadata": {},
   "outputs": [],
   "source": [
    "import pandas as pd\n",
    "from statsmodels.tsa.statespace.sarimax import SARIMAX\n",
    "from sklearn.metrics import mean_squared_error\n",
    "\n",
    "\n",
    "elec_df = pd.read_csv(\n",
    "    'elec/PJM_Load_hourly.csv',\n",
    "    names=[\"datetime\",\"energy\"],\n",
    "    dtype={'datetime':'str', 'energy':'float'},\n",
    "    parse_dates=['datetime'],\n",
    "    header=0,\n",
    "    skiprows = 0,\n",
    "    na_values=['Null']\n",
    ")\n",
    "\n",
    "elec_df = elec_df.sort_values(by=['datetime'])\n",
    "dates = elec_df['datetime']\n",
    "energy = elec_df['energy']\n",
    "\n",
    "start_date = '2000-03-1'\n",
    "end_date = '2000-06-08'\n",
    "middle_date = '2000-06-01'\n",
    "\n",
    "all_dates = (dates > start_date)&(dates < end_date)\n",
    "training_dates = (dates > start_date)&(dates < middle_date)\n",
    "testing_dates = (dates >= middle_date)&(dates < end_date)\n",
    "\n",
    "training_data = energy[training_dates]\n",
    "all_data = energy[all_dates]\n",
    "dates_list = dates[all_dates]\n",
    "\n",
    "order = [2, 1, 2]\n",
    "sorder = [0, 1, 0, 24]\n",
    "fit = SARIMAX(endog=endog, order=order, seasonal_order=sorder).fit()\n",
    "ARIMA_forecast = opt_fit.get_forecast(sum(testing_dates))\n",
    "ARIMA_score = mean_squared_error(energy[testing_dates].values, ARIMA_forecast.predicted_mean, squared=False)\n",
    "\n",
    "\n",
    "fig, (ax) = plt.subplots(1,1,figsize=(48,27))\n",
    "ax.set_ylim(0, 50000)\n",
    "ax.plot(\n",
    "    dates[all_dates].values,\n",
    "    energy[all_dates].values,\n",
    ")\n",
    "ax.plot(\n",
    "    dates[testing_dates].values,\n",
    "    ARIMA_forecast.predicted_mean,\n",
    "    linestyle = 'dashed')\n",
    "\n",
    "ax.fill_between(\n",
    "    dates[testing_dates],\n",
    "    ARIMA_forecast.predicted_mean-1*ARIMA_forecast.var_pred_mean,\n",
    "    ARIMA_forecast.predicted_mean+1*ARIMA_forecast.var_pred_mean,\n",
    "    color='Orange',\n",
    "    alpha=0.2)\n",
    "fig.savefig('plots/ARIMA_pred.png')"
   ]
  },
  {
   "cell_type": "markdown",
   "metadata": {},
   "source": []
  }
 ],
 "metadata": {
  "language_info": {
   "name": "python"
  },
  "orig_nbformat": 4
 },
 "nbformat": 4,
 "nbformat_minor": 2
}
